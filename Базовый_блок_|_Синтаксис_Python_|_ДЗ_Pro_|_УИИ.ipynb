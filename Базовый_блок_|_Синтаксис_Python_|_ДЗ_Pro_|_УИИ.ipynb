{
  "nbformat": 4,
  "nbformat_minor": 0,
  "metadata": {
    "colab": {
      "provenance": [],
      "include_colab_link": true
    },
    "kernelspec": {
      "display_name": "Python 3",
      "name": "python3"
    },
    "language_info": {
      "name": "python"
    }
  },
  "cells": [
    {
      "cell_type": "markdown",
      "metadata": {
        "id": "view-in-github",
        "colab_type": "text"
      },
      "source": [
        "<a href=\"https://colab.research.google.com/github/vghu/1--Pro/blob/main/%D0%91%D0%B0%D0%B7%D0%BE%D0%B2%D1%8B%D0%B9_%D0%B1%D0%BB%D0%BE%D0%BA_%7C_%D0%A1%D0%B8%D0%BD%D1%82%D0%B0%D0%BA%D1%81%D0%B8%D1%81_Python_%7C_%D0%94%D0%97_Pro_%7C_%D0%A3%D0%98%D0%98.ipynb\" target=\"_parent\"><img src=\"https://colab.research.google.com/assets/colab-badge.svg\" alt=\"Open In Colab\"/></a>"
      ]
    },
    {
      "cell_type": "markdown",
      "metadata": {
        "id": "39zJTivLrXFV"
      },
      "source": [
        "### Задача 1"
      ]
    },
    {
      "cell_type": "markdown",
      "metadata": {
        "id": "8YhhSW05rc1o"
      },
      "source": [
        "Напишите программу, которая просит пользователя ввести произвольную цифру от 1 до 9, а затем выводит таблицу умножения для введенного числа.\n",
        "\n",
        "Добавьте проверку введенной пользователем информации:\n",
        "* данные должны быть целочисленного типа\n",
        "* число должно находиться в диапазоне от 1 до 9"
      ]
    },
    {
      "cell_type": "code",
      "metadata": {
        "id": "ye9ErHpKBhhU",
        "colab": {
          "base_uri": "https://localhost:8080/"
        },
        "outputId": "1c800b10-cb03-4438-9075-41cf4d7d3025"
      },
      "source": [
        "# Ваше решение\n",
        "while True:\n",
        "    try:\n",
        "        number = int(input(\"Введите цело число от 1 до 9: \"))\n",
        "        break\n",
        "    except ValueError:\n",
        "        print(\"Это дробное число или слово, повторим\")\n",
        "step = 1\n",
        "print (\"Таблица умножения для числа: \", number)\n",
        "while step <= 10:\n",
        "    number = number * 1    \n",
        "    print(number, 'x', step, '=', number * step)\n",
        "    step += 1"
      ],
      "execution_count": 2,
      "outputs": [
        {
          "output_type": "stream",
          "name": "stdout",
          "text": [
            "Введите цело число от 1 до 9: 3ю3\n",
            "Это дробное число или слово, повторим\n",
            "Введите цело число от 1 до 9: 4\n",
            "Таблица умножения для числа:  4\n",
            "4 x 1 = 4\n",
            "4 x 2 = 8\n",
            "4 x 3 = 12\n",
            "4 x 4 = 16\n",
            "4 x 5 = 20\n",
            "4 x 6 = 24\n",
            "4 x 7 = 28\n",
            "4 x 8 = 32\n",
            "4 x 9 = 36\n",
            "4 x 10 = 40\n"
          ]
        }
      ]
    },
    {
      "cell_type": "markdown",
      "metadata": {
        "id": "dT9n_KJtpS-N"
      },
      "source": [
        "### Задача 2"
      ]
    },
    {
      "cell_type": "markdown",
      "metadata": {
        "id": "OTSU9QTLhdqe"
      },
      "source": [
        "Напишите программу, которая ищет все числа в интервале от 300 до 430 включительно, делящиеся на 11, но не делящиеся на 5. Выведите на экран все найденные числа."
      ]
    },
    {
      "cell_type": "code",
      "metadata": {
        "id": "lFWrMa8Uh9dc",
        "colab": {
          "base_uri": "https://localhost:8080/"
        },
        "outputId": "72653e5a-2ec5-4d95-8c26-4a7d60d3a249"
      },
      "source": [
        "# Ваше решение\n",
        "numbers = list(range(300, 430))\n",
        "results = [i for i in numbers if i % 11 == 0 and i % 5]\n",
        "print('Входной набор чисел')\n",
        "print(numbers)\n",
        "print('Результат: числа делящиеся на 11, но не делящиеся на 5')\n",
        "print(results)"
      ],
      "execution_count": 3,
      "outputs": [
        {
          "output_type": "stream",
          "name": "stdout",
          "text": [
            "Входной набор чисел\n",
            "[300, 301, 302, 303, 304, 305, 306, 307, 308, 309, 310, 311, 312, 313, 314, 315, 316, 317, 318, 319, 320, 321, 322, 323, 324, 325, 326, 327, 328, 329, 330, 331, 332, 333, 334, 335, 336, 337, 338, 339, 340, 341, 342, 343, 344, 345, 346, 347, 348, 349, 350, 351, 352, 353, 354, 355, 356, 357, 358, 359, 360, 361, 362, 363, 364, 365, 366, 367, 368, 369, 370, 371, 372, 373, 374, 375, 376, 377, 378, 379, 380, 381, 382, 383, 384, 385, 386, 387, 388, 389, 390, 391, 392, 393, 394, 395, 396, 397, 398, 399, 400, 401, 402, 403, 404, 405, 406, 407, 408, 409, 410, 411, 412, 413, 414, 415, 416, 417, 418, 419, 420, 421, 422, 423, 424, 425, 426, 427, 428, 429]\n",
            "Результат: числа делящиеся на 11, но не делящиеся на 5\n",
            "[308, 319, 341, 352, 363, 374, 396, 407, 418, 429]\n"
          ]
        }
      ]
    },
    {
      "cell_type": "markdown",
      "metadata": {
        "id": "BDz6HXvPxsYs"
      },
      "source": [
        "### Задача 3"
      ]
    },
    {
      "cell_type": "markdown",
      "metadata": {
        "id": "_b21x2ryxziN"
      },
      "source": [
        "Напишите функцию, которая принимает один параметр (год) и определяет, является ли этот год високосным.\n",
        "\n",
        "Напомним, что ***високосными*** годами считаются те, порядковый номер которых либо кратен **4**, но при этом не кратен **100**, либо кратен **400** (например, 2000-й год являлся високосным, а 2100-й будет не високосным годом).\n",
        "\n",
        "Программа должна корректно работать на числах **1900 ≤ n ≤ 3000**.\n",
        "\n",
        "Функция должна вывести на экран \"Високосный\" в случае, если год является високосным и \"Обычный\" в противном случае."
      ]
    },
    {
      "cell_type": "code",
      "metadata": {
        "id": "W2LFTkVAeDE_",
        "colab": {
          "base_uri": "https://localhost:8080/"
        },
        "outputId": "9f965136-169d-4fbc-ef3e-8f55b1460b40"
      },
      "source": [
        "# Ваше решение\n",
        "def Years(number):\n",
        "    if ((number % 4 == 0) and not (number % 100 == 0)) or (number % 400 == 0):\n",
        "        return 'Является'\n",
        "    else:\n",
        "        return 'Не является'\n",
        "\n",
        "while True:\n",
        "    try:\n",
        "        number = int(input(\"Введите Год для проверки: \"))\n",
        "        break\n",
        "    except ValueError:\n",
        "        print(\"Это число не подойдет, повторим\")\n",
        "print('Этот Год', Years(number), 'високосным')"
      ],
      "execution_count": 5,
      "outputs": [
        {
          "output_type": "stream",
          "name": "stdout",
          "text": [
            "Введите Год для проверки: 2016\n",
            "Этот Год Является високосным\n"
          ]
        }
      ]
    },
    {
      "cell_type": "markdown",
      "metadata": {
        "id": "9sr2U6oz1Iqu"
      },
      "source": [
        "### Задача 4"
      ]
    },
    {
      "cell_type": "markdown",
      "metadata": {
        "id": "fHMBDh-ahdrz"
      },
      "source": [
        "Создайте словарь (dict) c ключами, соответствующими числам от 1 до 10 включительно и значениями, соответствующими квадратам ключей. "
      ]
    },
    {
      "cell_type": "code",
      "metadata": {
        "id": "qpzOKGoXgzwQ",
        "colab": {
          "base_uri": "https://localhost:8080/"
        },
        "outputId": "e3e71c0d-e2bb-4496-e044-085e554c7faa"
      },
      "source": [
        "# Ваше решение\n",
        "MyDict=dict()\n",
        "for i in range(1,11):\n",
        "    MyDict[i]=i**2\n",
        "print('Ответ')\n",
        "print(MyDict)"
      ],
      "execution_count": 6,
      "outputs": [
        {
          "output_type": "stream",
          "name": "stdout",
          "text": [
            "Ответ\n",
            "{1: 1, 2: 4, 3: 9, 4: 16, 5: 25, 6: 36, 7: 49, 8: 64, 9: 81, 10: 100}\n"
          ]
        }
      ]
    },
    {
      "cell_type": "markdown",
      "metadata": {
        "id": "1GnNaeQ4zwt1"
      },
      "source": [
        "### Задача 5"
      ]
    },
    {
      "cell_type": "markdown",
      "metadata": {
        "id": "Rz5_LNzlr7GR"
      },
      "source": [
        "Напишите функцию простейшего калькулятора. Пользователь вводит число **a**, число **b** и вид арифметической операции над ними. Функция возвращает результат вычисления. "
      ]
    },
    {
      "cell_type": "code",
      "metadata": {
        "id": "DD8u-nSnl41M",
        "colab": {
          "base_uri": "https://localhost:8080/"
        },
        "outputId": "6d8165b6-fc4a-4b1b-9473-cb87ae049e21"
      },
      "source": [
        "# Ваше решение\n",
        "\n",
        "def Calculator(num1,num2,act):\n",
        "    # %.2f - фоматированный вывод числа с запятой, 2 символа после запятой, а % -это позиция переменной в строке вывода\n",
        "    if act == '+':\n",
        "        return print('%.2f + %.2f = %.2f' % (num1, num2, num1+num2))\n",
        "    elif act == '-':\n",
        "        return print('%.2f - %.2f = %.2f' % (num1, num2, num1-num2))\n",
        "    elif act == '*':\n",
        "        return print('%.2f * %.2f = %.2f' % (num1, num2, num1*num2))\n",
        "    elif act == '/':\n",
        "        if num2 != 0:\n",
        "            return print('%.2f / %.2f = %.2f' % (num1, num2, num1/num2))\n",
        "        else:\n",
        "            return print(\"Деление на ноль!\")\n",
        "\n",
        "act=''\n",
        "while True:\n",
        "    print(\"Выберите действие которое хотите сделать:\\n\"\n",
        "          \"Сложить: +\\n\"\n",
        "          \"Вычесть: -\\n\"\n",
        "          \"Умножить: *\\n\"\n",
        "          \"Поделить: /\\n\"\n",
        "          \"Выйти: q\\n\")\n",
        "    act = input(\"Действие: \")\n",
        "    if act == \"q\":\n",
        "        print(\"Выход из программы\")\n",
        "        break\n",
        "    if act in ('+', '-', '*', '/'):\n",
        "        num1 = float(input(\"num1 = \"))\n",
        "        num2 = float(input(\"num2 = \"))\n",
        "        Calculator(num1, num2, act)\n",
        "    else:\n",
        "        print('Это не вычислимо, еще раз?')"
      ],
      "execution_count": 7,
      "outputs": [
        {
          "output_type": "stream",
          "name": "stdout",
          "text": [
            "Выберите действие которое хотите сделать:\n",
            "Сложить: +\n",
            "Вычесть: -\n",
            "Умножить: *\n",
            "Поделить: /\n",
            "Выйти: q\n",
            "\n",
            "Действие: +\n",
            "num1 = 5\n",
            "num2 = 66\n",
            "5.00 + 66.00 = 71.00\n",
            "Выберите действие которое хотите сделать:\n",
            "Сложить: +\n",
            "Вычесть: -\n",
            "Умножить: *\n",
            "Поделить: /\n",
            "Выйти: q\n",
            "\n",
            "Действие: q\n",
            "Выход из программы\n"
          ]
        }
      ]
    },
    {
      "cell_type": "code",
      "metadata": {
        "id": "bIIN_rNzYm5G"
      },
      "source": [],
      "execution_count": null,
      "outputs": []
    }
  ]
}